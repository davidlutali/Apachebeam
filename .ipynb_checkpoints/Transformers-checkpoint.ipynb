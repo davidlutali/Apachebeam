{
 "cells": [
  {
   "cell_type": "code",
   "execution_count": 2,
   "id": "b1df7bb2-f146-475f-8512-5dbbc80dc9cb",
   "metadata": {},
   "outputs": [
    {
     "data": {
      "text/plain": [
       "'2.61.0'"
      ]
     },
     "execution_count": 2,
     "metadata": {},
     "output_type": "execute_result"
    }
   ],
   "source": [
    "import apache_beam as beam\n",
    "beam.__version__"
   ]
  },
  {
   "cell_type": "code",
   "execution_count": 7,
   "id": "60043769-b6e2-4dea-a7e4-182e67b13597",
   "metadata": {},
   "outputs": [],
   "source": [
    "# Set the logging level to reduce verbose information\n",
    "import logging\n",
    "\n",
    "logging.root.setLevel(logging.ERROR)\n",
    "     "
   ]
  },
  {
   "cell_type": "code",
   "execution_count": 9,
   "id": "0f1687b3-9cbe-47bc-86df-809ff8515ba8",
   "metadata": {},
   "outputs": [],
   "source": [
    "##Simple User-Defined Function (UDF)"
   ]
  },
  {
   "cell_type": "code",
   "execution_count": 16,
   "id": "455eaabf-2fab-4b7e-9d85-823315cf2b9d",
   "metadata": {},
   "outputs": [
    {
     "name": "stdout",
     "output_type": "stream",
     "text": [
      "[500] [5000]\n"
     ]
    }
   ],
   "source": [
    "\n",
    "pc = [1, 10, 100, 10000]\n",
    "\n",
    "# User-defined function\n",
    "def bounded_sum(values, bound=500):\n",
    "  return min(sum(values), bound)\n",
    "\n",
    "small_sum = pc | beam.CombineGlobally(bounded_sum)  # [500]\n",
    "large_sum = pc | beam.CombineGlobally(bounded_sum, bound=5000)  # [1111]\n",
    "\n",
    "print(small_sum, large_sum)"
   ]
  },
  {
   "cell_type": "code",
   "execution_count": 17,
   "id": "4b2a6911-fdc3-4403-8f18-dd0673709d28",
   "metadata": {},
   "outputs": [],
   "source": [
    "##2. Transforms: ParDo and Combine\n",
    "#A ParDo transform considers each element in the input PCollection,\n",
    "#performs your user code to process each element, and emits zero, one, or multiple elements to an output PCollection\n",
    "#Combine is another Beam transform for combining collections of elements or values in your data. Both allow flexible UDFs to define how you process the data."
   ]
  },
  {
   "cell_type": "code",
   "execution_count": 21,
   "id": "6d03fa38-2381-4520-a0e9-83a8d03e6517",
   "metadata": {},
   "outputs": [],
   "source": [
    "data = [1,2,3,4,5]\n",
    "# create a DoFn to multiply each element by five\n",
    "# you can define the processing code under `process`\n",
    "# which is required for a DoFn\n",
    "class MultiplyByFive(beam.DoFn):\n",
    "  def process(self, element):\n",
    "    yield element*5\n",
    "        "
   ]
  },
  {
   "cell_type": "code",
   "execution_count": 24,
   "id": "d12276dc-bd72-4fb6-a8a4-041e088b4f9a",
   "metadata": {},
   "outputs": [
    {
     "name": "stdout",
     "output_type": "stream",
     "text": [
      "5\n",
      "10\n",
      "15\n",
      "20\n",
      "25\n"
     ]
    }
   ],
   "source": [
    "with beam.Pipeline() as pipeline:\n",
    "    outputs =(\n",
    "        pipeline\n",
    "        |'Create values' >> beam.Create(data)\n",
    "        |'Multiply by Five' >>beam.ParDo(MultiplyByFive())\n",
    "    )\n",
    "    outputs | beam.Map(print)"
   ]
  },
  {
   "cell_type": "code",
   "execution_count": null,
   "id": "563cd1da-2c41-4f44-9b7a-32c503a6018b",
   "metadata": {},
   "outputs": [],
   "source": []
  }
 ],
 "metadata": {
  "kernelspec": {
   "display_name": "Python 3 (ipykernel)",
   "language": "python",
   "name": "python3"
  },
  "language_info": {
   "codemirror_mode": {
    "name": "ipython",
    "version": 3
   },
   "file_extension": ".py",
   "mimetype": "text/x-python",
   "name": "python",
   "nbconvert_exporter": "python",
   "pygments_lexer": "ipython3",
   "version": "3.12.3"
  }
 },
 "nbformat": 4,
 "nbformat_minor": 5
}
