{
 "cells": [
  {
   "cell_type": "code",
   "execution_count": 8,
   "id": "fd4768de-99d1-4703-b9b4-8ce6fcc098f3",
   "metadata": {},
   "outputs": [
    {
     "name": "stdout",
     "output_type": "stream",
     "text": [
      "Collecting pandas\n",
      "  Downloading pandas-2.2.3-cp312-cp312-manylinux_2_17_x86_64.manylinux2014_x86_64.whl.metadata (89 kB)\n",
      "Requirement already satisfied: numpy>=1.26.0 in /home/lutali/Documents/apache-environment/lib/python3.12/site-packages (from pandas) (2.1.3)\n",
      "Requirement already satisfied: python-dateutil>=2.8.2 in /home/lutali/Documents/apache-environment/lib/python3.12/site-packages (from pandas) (2.9.0.post0)\n",
      "Requirement already satisfied: pytz>=2020.1 in /home/lutali/Documents/apache-environment/lib/python3.12/site-packages (from pandas) (2024.2)\n",
      "Collecting tzdata>=2022.7 (from pandas)\n",
      "  Downloading tzdata-2024.2-py2.py3-none-any.whl.metadata (1.4 kB)\n",
      "Requirement already satisfied: six>=1.5 in /home/lutali/Documents/apache-environment/lib/python3.12/site-packages (from python-dateutil>=2.8.2->pandas) (1.17.0)\n",
      "Downloading pandas-2.2.3-cp312-cp312-manylinux_2_17_x86_64.manylinux2014_x86_64.whl (12.7 MB)\n",
      "\u001b[2K   \u001b[38;2;114;156;31m━━━━━━━━━━━━━━━━━━━━━━━━━━━━━━━━━━━━━━━━\u001b[0m \u001b[32m12.7/12.7 MB\u001b[0m \u001b[31m977.2 kB/s\u001b[0m eta \u001b[36m0:00:00\u001b[0mm eta \u001b[36m0:00:01\u001b[0m[36m0:00:01\u001b[0m\n",
      "Downloading tzdata-2024.2-py2.py3-none-any.whl (346 kB)\n",
      "Installing collected packages: tzdata, pandas\n",
      "Successfully installed pandas-2.2.3 tzdata-2024.2\n",
      "Note: you may need to restart the kernel to use updated packages.\n"
     ]
    }
   ],
   "source": [
    "pip install pandas"
   ]
  },
  {
   "cell_type": "code",
   "execution_count": 1,
   "id": "136df6a3-3289-42f2-8994-c086a6608eb4",
   "metadata": {},
   "outputs": [],
   "source": [
    "import apache_beam as beam"
   ]
  },
  {
   "cell_type": "code",
   "execution_count": 2,
   "id": "27b52ca3-5b20-45eb-9d3e-f930be889e43",
   "metadata": {},
   "outputs": [],
   "source": [
    "# Set the logging level to reduce verbose information\n",
    "import logging\n",
    "\n",
    "logging.root.setLevel(logging.ERROR)"
   ]
  },
  {
   "cell_type": "code",
   "execution_count": 3,
   "id": "aa69e725-585b-4f71-8431-877a47c297a2",
   "metadata": {},
   "outputs": [
    {
     "name": "stdout",
     "output_type": "stream",
     "text": [
      "ham\tGo until jurong point, crazy.. Available only in bugis n great world la e buffet... Cine there got amore wat...\n",
      "ham\tOk lar... Joking wif u oni...\n",
      "spam\tFree entry in 2 a wkly comp to win FA Cup final tkts 21st May 2005. Text FA to 87121 to receive entry question(std txt rate)T&C's apply 08452810075over18's\n",
      "ham\tU dun say so early hor... U c already then say...\n",
      "ham\tNah I don't think he goes to usf, he lives around here though\n",
      "spam\tFreeMsg Hey there darling it's been 3 week's now and no word back! I'd like some fun you up for it still? Tb ok! XxX std chgs to send, £1.50 to rcv\n",
      "ham\tEven my brother is not like to speak with me. They treat me like aids patent.\n",
      "ham\tAs per your request 'Melle Melle (Oru Minnaminunginte Nurungu Vettam)' has been set as your callertune for all Callers. Press *9 to copy your friends Callertune\n",
      "spam\tWINNER!! As a valued network customer you have been selected to receivea £900 prize reward! To claim call 09061701461. Claim code KL341. Valid 12 hours only.\n",
      "spam\tHad your mobile 11 months or more? U R entitled to Update to the latest colour mobiles with camera for Free! Call The Mobile Update Co FREE on 08002986030\n"
     ]
    }
   ],
   "source": [
    "!head data/SMSSpamCollection\n"
   ]
  },
  {
   "cell_type": "code",
   "execution_count": 4,
   "id": "c80586ec-494e-47fc-ad88-024c9f19ee1d",
   "metadata": {},
   "outputs": [
    {
     "data": {
      "application/javascript": [
       "\n",
       "        if (typeof window.interactive_beam_jquery == 'undefined') {\n",
       "          var jqueryScript = document.createElement('script');\n",
       "          jqueryScript.src = 'https://code.jquery.com/jquery-3.4.1.slim.min.js';\n",
       "          jqueryScript.type = 'text/javascript';\n",
       "          jqueryScript.onload = function() {\n",
       "            var datatableScript = document.createElement('script');\n",
       "            datatableScript.src = 'https://cdn.datatables.net/1.10.20/js/jquery.dataTables.min.js';\n",
       "            datatableScript.type = 'text/javascript';\n",
       "            datatableScript.onload = function() {\n",
       "              window.interactive_beam_jquery = jQuery.noConflict(true);\n",
       "              window.interactive_beam_jquery(document).ready(function($){\n",
       "                \n",
       "              });\n",
       "            }\n",
       "            document.head.appendChild(datatableScript);\n",
       "          };\n",
       "          document.head.appendChild(jqueryScript);\n",
       "        } else {\n",
       "          window.interactive_beam_jquery(document).ready(function($){\n",
       "            \n",
       "          });\n",
       "        }"
      ]
     },
     "metadata": {},
     "output_type": "display_data"
    },
    {
     "name": "stdout",
     "output_type": "stream",
     "text": [
      "Ham Word Count Head\n",
      "('Go', 10)\n",
      "('until', 21)\n",
      "('jurong', 1)\n",
      "('point', 12)\n",
      "('crazy', 9)\n",
      "('Available', 1)\n",
      "('only', 118)\n",
      "('in', 770)\n",
      "('bugis', 6)\n",
      "('n', 139)\n",
      "Spam Word Count Head\n",
      "('Free', 43)\n",
      "('entry', 25)\n",
      "('in', 77)\n",
      "('a', 367)\n",
      "('wkly', 10)\n",
      "('comp', 10)\n",
      "('to', 611)\n",
      "('win', 38)\n",
      "('FA', 4)\n",
      "('Cup', 3)\n"
     ]
    }
   ],
   "source": [
    "import apache_beam as beam\n",
    "import re\n",
    "\n",
    "inputs_pattern = 'data/SMSSpamCollection'\n",
    "outputs_prefix_ham = 'outputs/ham'\n",
    "outputs_prefix_spam = 'outputs/spam'\n",
    "\n",
    "# Ham Word Count\n",
    "with beam.Pipeline() as pipeline:\n",
    "     ham = (\n",
    "      pipeline\n",
    "      | 'Take in Dataset' >> beam.io.ReadFromText(inputs_pattern)\n",
    "      | 'Separate to list' >> beam.Map(lambda line: line.split(\"\\t\"))\n",
    "      | 'Keep only ham' >> beam.Filter(lambda line: line[0] == \"ham\")\n",
    "      | 'Find words' >> beam.FlatMap(lambda line: re.findall(r\"[a-zA-Z']+\", line[1]))\n",
    "      | 'Pair words with 1' >> beam.Map(lambda word: (word, 1))\n",
    "      | 'Group and sum' >> beam.CombinePerKey(sum)\n",
    "      | 'Format results' >> beam.Map(lambda word_c: str(word_c))\n",
    "      | 'Write results' >> beam.io.WriteToText(outputs_prefix_ham, file_name_suffix = \".txt\")\n",
    "    )\n",
    "\n",
    "# Spam Word Count\n",
    "with beam.Pipeline() as pipeline1:\n",
    "  spam = (\n",
    "    pipeline1\n",
    "    | 'Take in Dataset' >> beam.io.ReadFromText(inputs_pattern)\n",
    "    | 'Separate to list' >> beam.Map(lambda line: line.split(\"\\t\"))\n",
    "    | 'Filter out only spam' >> beam.Filter(lambda line: line[0] == \"spam\")\n",
    "    | 'Find words' >> beam.FlatMap(lambda line: re.findall(r\"[a-zA-Z']+\", line[1]))\n",
    "    | 'Pair words with 1' >> beam.Map(lambda word: (word, 1))\n",
    "    | 'Group and sum' >> beam.CombinePerKey(sum)\n",
    "    | 'Format results' >> beam.Map(lambda word_c: str(word_c))\n",
    "    | 'Write results' >> beam.io.WriteToText(outputs_prefix_spam, file_name_suffix = \".txt\")\n",
    "    )\n",
    "\n",
    "print('Ham Word Count Head')\n",
    "! head outputs/ham*.txt\n",
    "\n",
    "print('Spam Word Count Head')\n",
    "! head outputs/spam*.txt"
   ]
  },
  {
   "cell_type": "code",
   "execution_count": 25,
   "id": "9292799a-f668-493a-8dbb-11bdc4cf879b",
   "metadata": {},
   "outputs": [
    {
     "data": {
      "text/html": [
       "\n",
       "            <link rel=\"stylesheet\" href=\"https://stackpath.bootstrapcdn.com/bootstrap/4.4.1/css/bootstrap.min.css\" integrity=\"sha384-Vkoo8x4CGsO3+Hhxv8T/Q5PaXtkKtu6ug5TOeNV6gBiFeWPGFN9MuhOf23Q9Ifjh\" crossorigin=\"anonymous\">\n",
       "            <div id=\"progress_indicator_a1216ad4d7967db20c658bbb503081be\">\n",
       "              <div class=\"spinner-border text-info\" role=\"status\"></div>\n",
       "              <span class=\"text-info\">Processing... show_graph</span>\n",
       "            </div>\n",
       "            "
      ],
      "text/plain": [
       "<IPython.core.display.HTML object>"
      ]
     },
     "metadata": {},
     "output_type": "display_data"
    },
    {
     "data": {
      "text/html": [
       "digraph G {\n",
       "node [color=blue, fontcolor=blue, shape=box];\n",
       "\"[24]: Take in Dataset\";\n",
       "pcoll9433 [label=\"\", shape=circle];\n",
       "\"[24]: Separate to list\";\n",
       "pcoll4166 [label=\"\", shape=circle];\n",
       "\"[24]: Keep only ham\";\n",
       "pcoll9770 [label=\"\", shape=circle];\n",
       "\"[24]: Find words\";\n",
       "pcoll6530 [label=\"\", shape=circle];\n",
       "\"[24]: Pair words with 1\";\n",
       "pcoll6864 [label=\"\", shape=circle];\n",
       "\"[24]: Group and sum\";\n",
       "pcoll6823 [label=\"\", shape=circle];\n",
       "\"[24]: Format results\";\n",
       "pcoll4123 [label=\"\", shape=circle];\n",
       "\"[24]: Write results\";\n",
       "ham [shape=circle];\n",
       "\"[24]: Take in Dataset\" -> pcoll9433;\n",
       "pcoll9433 -> \"[24]: Separate to list\";\n",
       "\"[24]: Separate to list\" -> pcoll4166;\n",
       "pcoll4166 -> \"[24]: Keep only ham\";\n",
       "\"[24]: Keep only ham\" -> pcoll9770;\n",
       "pcoll9770 -> \"[24]: Find words\";\n",
       "\"[24]: Find words\" -> pcoll6530;\n",
       "pcoll6530 -> \"[24]: Pair words with 1\";\n",
       "\"[24]: Pair words with 1\" -> pcoll6864;\n",
       "pcoll6864 -> \"[24]: Group and sum\";\n",
       "\"[24]: Group and sum\" -> pcoll6823;\n",
       "pcoll6823 -> \"[24]: Format results\";\n",
       "\"[24]: Format results\" -> pcoll4123;\n",
       "pcoll4123 -> \"[24]: Write results\";\n",
       "\"[24]: Write results\" -> ham;\n",
       "}\n"
      ],
      "text/plain": [
       "<IPython.core.display.HTML object>"
      ]
     },
     "metadata": {},
     "output_type": "display_data"
    },
    {
     "data": {
      "application/javascript": [
       "\n",
       "        if (typeof window.interactive_beam_jquery == 'undefined') {\n",
       "          var jqueryScript = document.createElement('script');\n",
       "          jqueryScript.src = 'https://code.jquery.com/jquery-3.4.1.slim.min.js';\n",
       "          jqueryScript.type = 'text/javascript';\n",
       "          jqueryScript.onload = function() {\n",
       "            var datatableScript = document.createElement('script');\n",
       "            datatableScript.src = 'https://cdn.datatables.net/1.10.20/js/jquery.dataTables.min.js';\n",
       "            datatableScript.type = 'text/javascript';\n",
       "            datatableScript.onload = function() {\n",
       "              window.interactive_beam_jquery = jQuery.noConflict(true);\n",
       "              window.interactive_beam_jquery(document).ready(function($){\n",
       "                \n",
       "            $(\"#progress_indicator_a1216ad4d7967db20c658bbb503081be\").remove();\n",
       "              });\n",
       "            }\n",
       "            document.head.appendChild(datatableScript);\n",
       "          };\n",
       "          document.head.appendChild(jqueryScript);\n",
       "        } else {\n",
       "          window.interactive_beam_jquery(document).ready(function($){\n",
       "            \n",
       "            $(\"#progress_indicator_a1216ad4d7967db20c658bbb503081be\").remove();\n",
       "          });\n",
       "        }"
      ]
     },
     "metadata": {},
     "output_type": "display_data"
    }
   ],
   "source": [
    "import apache_beam.runners.interactive.interactive_beam as ib\n",
    "ib.show_graph(pipeline)"
   ]
  },
  {
   "cell_type": "code",
   "execution_count": null,
   "id": "7728f2af-9d09-4a37-8332-c362186b3ec8",
   "metadata": {},
   "outputs": [],
   "source": []
  }
 ],
 "metadata": {
  "kernelspec": {
   "display_name": "Python 3 (ipykernel)",
   "language": "python",
   "name": "python3"
  },
  "language_info": {
   "codemirror_mode": {
    "name": "ipython",
    "version": 3
   },
   "file_extension": ".py",
   "mimetype": "text/x-python",
   "name": "python",
   "nbconvert_exporter": "python",
   "pygments_lexer": "ipython3",
   "version": "3.12.3"
  }
 },
 "nbformat": 4,
 "nbformat_minor": 5
}
