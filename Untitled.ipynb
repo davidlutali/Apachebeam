{
 "cells": [
  {
   "cell_type": "code",
   "execution_count": null,
   "id": "087152f8-27a1-4cd0-a482-69f933f8391f",
   "metadata": {},
   "outputs": [],
   "source": []
  },
  {
   "cell_type": "code",
   "execution_count": null,
   "id": "274e470e-f364-4b6b-9d8f-274d150e56b0",
   "metadata": {},
   "outputs": [],
   "source": [
    "# SQL statement to create a metrics table in the database, if it doesn't already exist\n",
    "CREATE_METRICS_TABLE = \"\"\"\n",
    "CREATE TABLE IF NOT EXISTS sms_metrics (\n",
    "    id INT AUTO_INCREMENT PRIMARY KEY, -- Unique identifier for each record\n",
    "    status VARCHAR(50), -- SMS status (e.g., sent, failed)\n",
    "    total_cost DECIMAL(10,2), -- Total cost of messages in this status\n",
    "    message_count INT, -- Total number of messages\n",
    "    avg_cost DECIMAL(10,2), -- Average cost per message\n",
    "    avg_word_count FLOAT, -- Average number of words per message\n",
    "    most_common_hour INT, -- Hour when most messages were sent\n",
    "    analysis_date TIMESTAMP DEFAULT CURRENT_TIMESTAMP -- Timestamp of analysis\n",
    ");\n",
    "\"\"\""
   ]
  },
  {
   "cell_type": "code",
   "execution_count": null,
   "id": "ac3afb4b-6a22-4b92-8f87-4d2d78844b36",
   "metadata": {},
   "outputs": [],
   "source": [
    "class DatabaseWriter:\n",
    "    \"\"\"Handles database connections and writing results\"\"\"\n",
    "    def __init__(self, config):\n",
    "        self.config = config  # Store database connection configuration\n",
    "\n",
    "    def setup_database(self):\n",
    "        \"\"\"Create the metrics table if it doesn't exist\"\"\"\n",
    "        conn = mysql.connector.connect(**self.config)  # Connect to MySQL\n",
    "        try:\n",
    "            cursor = conn.cursor()  # Create a cursor for executing SQL\n",
    "            cursor.execute(CREATE_METRICS_TABLE)  # Execute table creation query\n",
    "            conn.commit()  # Commit changes to the database\n",
    "        finally:\n",
    "            cursor.close()  # Close the cursor\n",
    "            conn.close()  # Close the connection\n",
    "\n",
    "    def write_metrics(self, metrics):\n",
    "        \"\"\"Write metrics to database\"\"\"\n",
    "        conn = mysql.connector.connect(**self.config)  # Connect to MySQL\n",
    "        try:\n",
    "            cursor = conn.cursor()  # Create a cursor for executing SQL\n",
    "            # SQL query to insert metrics into the table\n",
    "            insert_query = \"\"\"\n",
    "            INSERT INTO sms_metrics \n",
    "            (status, total_cost, message_count, avg_cost, avg_word_count, most_common_hour)\n",
    "            VALUES (%(status)s, %(total_cost)s, %(message_count)s, \n",
    "                    %(avg_cost)s, %(avg_word_count)s, %(most_common_hour)s)\n",
    "            \"\"\"\n",
    "            cursor.execute(insert_query, metrics)  # Execute the insert query\n",
    "            conn.commit()  # Commit the transaction\n",
    "            # Log successful write operation\n",
    "            logger.info(f\"Wrote metrics for status: {metrics['status']}\")\n",
    "        finally:\n",
    "            cursor.close()  # Close the cursor\n",
    "            conn.close()  # Close the connection\n"
   ]
  },
  {
   "cell_type": "code",
   "execution_count": null,
   "id": "a10eb45d-d66a-41ae-a63f-5249427aba00",
   "metadata": {},
   "outputs": [],
   "source": []
  },
  {
   "cell_type": "code",
   "execution_count": null,
   "id": "ebf11307-4770-4792-bd1e-91b83395f7de",
   "metadata": {},
   "outputs": [],
   "source": []
  }
 ],
 "metadata": {
  "kernelspec": {
   "display_name": "Python 3 (ipykernel)",
   "language": "python",
   "name": "python3"
  },
  "language_info": {
   "codemirror_mode": {
    "name": "ipython",
    "version": 3
   },
   "file_extension": ".py",
   "mimetype": "text/x-python",
   "name": "python",
   "nbconvert_exporter": "python",
   "pygments_lexer": "ipython3",
   "version": "3.12.3"
  }
 },
 "nbformat": 4,
 "nbformat_minor": 5
}
